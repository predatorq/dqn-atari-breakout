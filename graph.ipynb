{
 "cells": [
  {
   "cell_type": "code",
   "execution_count": null,
   "metadata": {},
   "outputs": [],
   "source": [
    "from collections import deque\n",
    "\n",
    "import tqdm\n",
    "import torch\n",
    "\n",
    "from utils_env import MyEnv\n",
    "from utils_drl import Agent"
   ]
  },
  {
   "cell_type": "code",
   "execution_count": null,
   "metadata": {},
   "outputs": [],
   "source": [
    "models = []\n",
    "model_dir = \"./models/\"\n",
    "for i in range(500):\n",
    "    models.append(model_dir + f\"model_{i:03d}\")"
   ]
  },
  {
   "cell_type": "code",
   "execution_count": null,
   "metadata": {},
   "outputs": [],
   "source": [
    "device = torch.device(\"cuda:0\")\n",
    "env = MyEnv(device)\n",
    "model_paths = tqdm.notebook.tqdm(models)\n",
    "avg_rewards = []\n",
    "for model_path in model_paths:\n",
    "    agent = Agent(env.get_action_dim(), device, 0.99, 0, 0, 0, 1, model_path)\n",
    "    obs_queue = deque(maxlen=5)\n",
    "    avg_reward, _ = env.evaluate(obs_queue, agent)\n",
    "    avg_rewards.append(avg_reward)"
   ]
  },
  {
   "cell_type": "code",
   "execution_count": null,
   "metadata": {},
   "outputs": [],
   "source": [
    "with open(\"DQN-result.txt\", \"w\") as res:\n",
    "    for avg_reward in avg_rewards:\n",
    "        res.write(str(avg_reward) + \"\\n\")"
   ]
  },
  {
   "cell_type": "code",
   "execution_count": null,
   "metadata": {},
   "outputs": [],
   "source": [
    "%matplotlib inline\n",
    "import matplotlib.pyplot as plt\n",
    "import numpy as np"
   ]
  },
  {
   "cell_type": "code",
   "execution_count": null,
   "metadata": {},
   "outputs": [],
   "source": [
    "avg_rewards = np.array(avg_rewards)\n",
    "accu_rewards = []\n",
    "for i in range(49, 500):\n",
    "    accu_rewards.append(np.mean(avg_rewards[i-49:i]))"
   ]
  },
  {
   "cell_type": "code",
   "execution_count": null,
   "metadata": {},
   "outputs": [],
   "source": [
    "plt.plot(range(49, 500), accu_rewards)\n",
    "plt.ylabel(\"last 50 models average reward\")\n",
    "plt.savefig(\"DQN-result.jpg\")\n",
    "plt.show()"
   ]
  },
  {
   "cell_type": "code",
   "execution_count": null,
   "metadata": {},
   "outputs": [],
   "source": []
  }
 ],
 "metadata": {
  "kernelspec": {
   "display_name": "Python 3",
   "language": "python",
   "name": "python3"
  },
  "language_info": {
   "codemirror_mode": {
    "name": "ipython",
    "version": 3
   },
   "file_extension": ".py",
   "mimetype": "text/x-python",
   "name": "python",
   "nbconvert_exporter": "python",
   "pygments_lexer": "ipython3",
   "version": "3.8.8"
  }
 },
 "nbformat": 4,
 "nbformat_minor": 4
}
